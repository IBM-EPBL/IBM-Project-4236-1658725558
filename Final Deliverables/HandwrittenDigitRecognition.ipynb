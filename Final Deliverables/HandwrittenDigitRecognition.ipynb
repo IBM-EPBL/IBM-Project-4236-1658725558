{
  "cells": [
    {
      "cell_type": "code",
      "execution_count": null,
      "metadata": {
        "id": "ZWbgWUrr9ZWB"
      },
      "outputs": [],
      "source": [
        "import numpy as np\n",
        "import pandas as pd\n",
        "import matplotlib.pyplot as plt\n",
        "import keras\n",
        "from keras.datasets import mnist\n",
        "from keras.models import Sequential\n",
        "from keras.layers import Dense,Conv2D, MaxPool2D, Flatten, Dropout\n"
      ]
    },
    {
      "cell_type": "code",
      "execution_count": null,
      "metadata": {
        "colab": {
          "base_uri": "https://localhost:8080/"
        },
        "id": "C3kPB1B39f0h",
        "outputId": "389f0576-3270-4dde-c3f8-85c669ea32cc"
      },
      "outputs": [
        {
          "output_type": "stream",
          "name": "stdout",
          "text": [
            "Downloading data from https://storage.googleapis.com/tensorflow/tf-keras-datasets/mnist.npz\n",
            "11493376/11490434 [==============================] - 0s 0us/step\n",
            "11501568/11490434 [==============================] - 0s 0us/step\n"
          ]
        },
        {
          "output_type": "execute_result",
          "data": {
            "text/plain": [
              "((60000, 28, 28), (60000,), (10000, 28, 28), (10000,))"
            ]
          },
          "metadata": {},
          "execution_count": 2
        }
      ],
      "source": [
        "(X_train,y_train), (X_test, y_test) = mnist.load_data()\n",
        "\n",
        "X_train.shape, y_train.shape, X_test.shape, y_test.shape\n"
      ]
    },
    {
      "cell_type": "code",
      "execution_count": null,
      "metadata": {
        "id": "rC6mZxs395s4"
      },
      "outputs": [],
      "source": [
        "def plot_input(i):\n",
        "\n",
        " plt.imshow(X_train[i], cmap = 'binary')\n",
        " plt.title(y_train[i])\n",
        " plt.show()"
      ]
    },
    {
      "cell_type": "code",
      "execution_count": null,
      "metadata": {
        "colab": {
          "base_uri": "https://localhost:8080/",
          "height": 545
        },
        "id": "TTQp0S9c-Tq_",
        "outputId": "fadc8a51-8028-4dd3-a7b2-e969d845f8b5"
      },
      "outputs": [
        {
          "output_type": "display_data",
          "data": {
            "text/plain": [
              "<Figure size 432x288 with 1 Axes>"
            ],
            "image/png": "[encoded data removed]"
          },
          "metadata": {
            "needs_background": "light"
          }
        },
        {
          "output_type": "display_data",
          "data": {
            "text/plain": [
              "<Figure size 432x288 with 1 Axes>"
            ],
            "image/png": "[encoded data removed]"
          },
          "metadata": {
            "needs_background": "light"
          }
        }
      ],
      "source": [
        "for i in range (2):\n",
        "  plot_input(i)"
      ]
    },
    {
      "cell_type": "code",
      "execution_count": null,
      "metadata": {
        "colab": {
          "base_uri": "https://localhost:8080/"
        },
        "id": "Ir0GTYt1C8sv",
        "outputId": "3baf2fae-8974-4948-ea3c-cd58faeb936a"
      },
      "outputs": [
        {
          "output_type": "execute_result",
          "data": {
            "text/plain": [
              "(60000, 28, 28, 1)"
            ]
          },
          "metadata": {},
          "execution_count": 5
        }
      ],
      "source": [
        "X_train = X_train.astype((np.float32))/255\n",
        "X_test = X_test.astype((np.float32))/255\n",
        "\n",
        "X_train = np.expand_dims(X_train,-1)\n",
        "X_test = np.expand_dims(X_test,-1)\n",
        "\n",
        "X_train.shape\n",
        "\n",
        "\n"
      ]
    },
    {
      "cell_type": "code",
      "execution_count": null,
      "metadata": {
        "id": "Tz3OG_vkDN9m"
      },
      "outputs": [],
      "source": [
        "y_train =keras.utils.np_utils.to_categorical(y_train)\n",
        "y_test =keras.utils.np_utils.to_categorical(y_test)\n"
      ]
    },
    {
      "cell_type": "code",
      "execution_count": null,
      "metadata": {
        "id": "KzZiIERlxfOr"
      },
      "outputs": [],
      "source": [
        "model = Sequential()\n",
        "model.add(Conv2D(32, (3,3), input_shape = (28,28,1), activation = 'relu'))\n",
        "model.add(MaxPool2D((2,2)))\n",
        "\n",
        "model.add(Conv2D(64, (3,3), activation = 'relu'))\n",
        "model.add(MaxPool2D((2,2)))\n",
        "\n",
        "model.add(Flatten())\n",
        "\n",
        "model.add(Dropout(0.2))\n",
        "\n",
        "model.add(Dense(10, activation='softmax'))"
      ]
    },
    {
      "cell_type": "code",
      "execution_count": null,
      "metadata": {
        "colab": {
          "base_uri": "https://localhost:8080/"
        },
        "id": "7hjUCuEmz_4f",
        "outputId": "e1fd2b1e-6737-4e48-c99b-8fa6a8ea0e78"
      },
      "outputs": [
        {
          "output_type": "stream",
          "name": "stdout",
          "text": [
            "Model: \"sequential\"\n",
            "_________________________________________________________________\n",
            " Layer (type)                Output Shape              Param #   \n",
            "=================================================================\n",
            " conv2d (Conv2D)             (None, 26, 26, 32)        320       \n",
            "                                                                 \n",
            " max_pooling2d (MaxPooling2D  (None, 13, 13, 32)       0         \n",
            " )                                                               \n",
            "                                                                 \n",
            " conv2d_1 (Conv2D)           (None, 11, 11, 64)        18496     \n",
            "                                                                 \n",
            " max_pooling2d_1 (MaxPooling  (None, 5, 5, 64)         0         \n",
            " 2D)                                                             \n",
            "                                                                 \n",
            " flatten (Flatten)           (None, 1600)              0         \n",
            "                                                                 \n",
            " dropout (Dropout)           (None, 1600)              0         \n",
            "                                                                 \n",
            " dense (Dense)               (None, 10)                16010     \n",
            "                                                                 \n",
            "=================================================================\n",
            "Total params: 34,826\n",
            "Trainable params: 34,826\n",
            "Non-trainable params: 0\n",
            "_________________________________________________________________\n"
          ]
        }
      ],
      "source": [
        "model.summary()"
      ]
    },
    {
      "cell_type": "code",
      "execution_count": null,
      "metadata": {
        "id": "N8zknLHA0Dl9"
      },
      "outputs": [],
      "source": [
        "model.compile(optimizer = 'adam', loss= keras.losses.categorical_crossentropy, metrics =['accuracy'])\n",
        "\n"
      ]
    },
    {
      "cell_type": "code",
      "execution_count": null,
      "metadata": {
        "id": "QFyaDfoO0m0q"
      },
      "outputs": [],
      "source": [
        "from keras.callbacks import EarlyStopping, ModelCheckpoint\n",
        "es = EarlyStopping(monitor = 'val_acc',min_delta = 0.01, patience = 4,verbose =1)\n",
        "mc = ModelCheckpoint('./bestmodel.h5',monitor ='val_acc', verbose = 1, save_best_only = True)\n",
        "cb = [es,mc]"
      ]
    },
    {
      "cell_type": "code",
      "execution_count": null,
      "metadata": {
        "id": "-OaWN43158P_"
      },
      "outputs": [],
      "source": []
    },
    {
      "cell_type": "code",
      "execution_count": null,
      "metadata": {
        "colab": {
          "base_uri": "https://localhost:8080/"
        },
        "id": "NQm3XmOD0uJr",
        "outputId": "f41e9aae-3a57-4d18-f733-da5feae74475"
      },
      "outputs": [
        {
          "output_type": "stream",
          "name": "stdout",
          "text": [
            "Epoch 1/5\n",
            "1313/1313 [==============================] - 58s 43ms/step - loss: 0.2064 - accuracy: 0.9372 - val_loss: 0.0777 - val_accuracy: 0.9753\n",
            "Epoch 2/5\n",
            "1313/1313 [==============================] - 45s 35ms/step - loss: 0.0718 - accuracy: 0.9775 - val_loss: 0.0629 - val_accuracy: 0.9805\n",
            "Epoch 3/5\n",
            "1313/1313 [==============================] - 47s 36ms/step - loss: 0.0543 - accuracy: 0.9832 - val_loss: 0.0548 - val_accuracy: 0.9829\n",
            "Epoch 4/5\n",
            "1313/1313 [==============================] - 45s 34ms/step - loss: 0.0445 - accuracy: 0.9862 - val_loss: 0.0459 - val_accuracy: 0.9857\n",
            "Epoch 5/5\n",
            "1313/1313 [==============================] - 45s 35ms/step - loss: 0.0370 - accuracy: 0.9880 - val_loss: 0.0434 - val_accuracy: 0.9864\n"
          ]
        }
      ],
      "source": [
        "his = model.fit(X_train, y_train, epochs = 5,validation_split = 0.3)\n",
        "model.save('bestmodel.h5')"
      ]
    },
    {
      "cell_type": "code",
      "execution_count": null,
      "metadata": {
        "id": "dE82ytj_1szV"
      },
      "outputs": [],
      "source": [
        "model_S = keras.models.load_model('bestmodel.h5')"
      ]
    },
    {
      "cell_type": "code",
      "execution_count": null,
      "metadata": {
        "colab": {
          "base_uri": "https://localhost:8080/"
        },
        "id": "h4EmzhgR99xk",
        "outputId": "86a79969-7d9e-4b70-b4bf-bee3060cea5b"
      },
      "outputs": [
        {
          "output_type": "stream",
          "name": "stdout",
          "text": [
            "313/313 [==============================] - 3s 11ms/step - loss: 0.0360 - accuracy: 0.9891\n",
            "0.9890999794006348\n"
          ]
        }
      ],
      "source": [
        "\n",
        "score = model_S.evaluate(X_test,y_test)\n",
        "print(score[1])"
      ]
    },
    {
      "cell_type": "code",
      "source": [
        "from keras.models import load_model\n",
        "from PIL import Image\n",
        "import matplotlib.pyplot as plt\n",
        "import numpy as np\n",
        "import cv2\n",
        "\n",
        "model = keras.models.load_model('bestmodel.h5')\n",
        "imgData = cv2.imread('nine.png')\n",
        "plt.imshow(imgData)\n",
        "img = cv2.imread('nine.png')[:,:,0]\n",
        "\n",
        "img = np.invert(np.array([img]))\n",
        "prediction = model.predict(img)\n",
        "print(\"\\n\\n\\n\\n\\n\\n The digit predicted from the image : \"+ str(np.argmax(prediction)) + \"\\n\\n\\n\\n\\n\\n\\n\")\n",
        "\n",
        "\n",
        "\n",
        "\n",
        "\n"
      ],
      "metadata": {
        "colab": {
          "base_uri": "https://localhost:8080/",
          "height": 508
        },
        "id": "8db9eYmXtd_M",
        "outputId": "9ae70567-36bb-485b-888f-2cec6289a9d3"
      },
      "execution_count": null,
      "outputs": [
        {
          "output_type": "stream",
          "name": "stdout",
          "text": [
            "\n",
            "\n",
            "\n",
            "\n",
            "\n",
            "\n",
            " The digit predicted from the image : 9\n",
            "\n",
            "\n",
            "\n",
            "\n",
            "\n",
            "\n",
            "\n"
          ]
        },
        {
          "output_type": "display_data",
          "data": {
            "text/plain": [
              "<Figure size 432x288 with 1 Axes>"
            ],
            "image/png": "[encoded data removed]"
          },
          "metadata": {
            "needs_background": "light"
          }
        }
      ]
    },
    {
      "cell_type": "code",
      "source": [
        "from google.colab import drive\n",
        "drive.mount('/content/drive')"
      ],
      "metadata": {
        "id": "CdZm1BHALRlp",
        "colab": {
          "base_uri": "https://localhost:8080/"
        },
        "outputId": "7ce800f4-2667-4d59-ed40-7e540b7454be"
      },
      "execution_count": null,
      "outputs": [
        {
          "output_type": "stream",
          "name": "stdout",
          "text": [
            "Mounted at /content/drive\n"
          ]
        }
      ]
    },
    {
      "cell_type": "code",
      "execution_count": null,
      "metadata": {
        "id": "m7QrRrnmK3rZ",
        "colab": {
          "base_uri": "https://localhost:8080/"
        },
        "outputId": "5ec084b7-dd86-483d-9969-72f0aae711d9"
      },
      "outputs": [
        {
          "output_type": "stream",
          "name": "stdout",
          "text": [
            "Looking in indexes: https://pypi.org/simple, https://us-python.pkg.dev/colab-wheels/public/simple/\n",
            "Collecting gevent\n",
            "  Downloading gevent-21.12.0-cp37-cp37m-manylinux_2_12_x86_64.manylinux2010_x86_64.whl (5.8 MB)\n",
            "\u001b[K     |████████████████████████████████| 5.8 MB 2.1 MB/s \n",
            "\u001b[?25hRequirement already satisfied: greenlet<2.0,>=1.1.0 in /usr/local/lib/python3.7/dist-packages (from gevent) (1.1.3)\n",
            "Collecting zope.interface\n",
            "  Downloading zope.interface-5.4.0-cp37-cp37m-manylinux2010_x86_64.whl (251 kB)\n",
            "\u001b[K     |████████████████████████████████| 251 kB 52.8 MB/s \n",
            "\u001b[?25hCollecting zope.event\n",
            "  Downloading zope.event-4.5.0-py2.py3-none-any.whl (6.8 kB)\n",
            "Requirement already satisfied: setuptools in /usr/local/lib/python3.7/dist-packages (from gevent) (57.4.0)\n",
            "Installing collected packages: zope.interface, zope.event, gevent\n",
            "Successfully installed gevent-21.12.0 zope.event-4.5.0 zope.interface-5.4.0\n"
          ]
        }
      ],
      "source": [
        "#!pip install flask\n",
        "!pip install gevent"
      ]
    },
    {
      "cell_type": "code",
      "execution_count": null,
      "metadata": {
        "id": "uXybRFI1K66d"
      },
      "outputs": [],
      "source": [
        "# from flask import Flask\n",
        "# from gevent.pywsgi import WSGIServer\n",
        "# app = Flask(__name__)\n",
        "\n",
        "# @app.route('/api', methods=['GET'])\n",
        "# def index():\n",
        "#     return \"Hello, World!\"\n",
        "\n",
        "# if __name__ == '__main__':\n",
        "    \n",
        "#     http_server = WSGIServer(('', 5000), app)\n",
        "#     http_server.serve_forever()"
      ]
    },
    {
      "cell_type": "code",
      "execution_count": null,
      "metadata": {
        "id": "b3OrEbO3L8dy"
      },
      "outputs": [],
      "source": []
    }
  ],
  "metadata": {
    "colab": {
      "collapsed_sections": [],
      "provenance": []
    },
    "kernelspec": {
      "display_name": "Python 3",
      "name": "python3"
    },
    "language_info": {
      "name": "python"
    }
  },
  "nbformat": 4,
  "nbformat_minor": 0
}